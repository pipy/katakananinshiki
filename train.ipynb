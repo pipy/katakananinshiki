{
 "cells": [
  {
   "cell_type": "code",
   "execution_count": 1,
   "id": "e482f622-4620-4c8c-a698-42b8206ec679",
   "metadata": {},
   "outputs": [
    {
     "name": "stderr",
     "output_type": "stream",
     "text": [
      "2023-07-04 14:50:27.151469: W tensorflow/stream_executor/platform/default/dso_loader.cc:64] Could not load dynamic library 'libcudart.so.11.0'; dlerror: libcudart.so.11.0: cannot open shared object file: No such file or directory\n",
      "2023-07-04 14:50:27.151498: I tensorflow/stream_executor/cuda/cudart_stub.cc:29] Ignore above cudart dlerror if you do not have a GPU set up on your machine.\n"
     ]
    }
   ],
   "source": [
    "import numpy as np\n",
    "import tensorflow as tf\n",
    "from tensorflow import keras\n",
    "from tensorflow.keras import layers, models\n",
    "from sklearn.model_selection import train_test_split\n",
    "import pickle\n",
    "import os\n",
    "import glob\n",
    "from tqdm import tqdm"
   ]
  },
  {
   "cell_type": "code",
   "execution_count": 2,
   "id": "b833d05e-426a-49e7-9398-815c8bae7e6c",
   "metadata": {},
   "outputs": [
    {
     "name": "stdout",
     "output_type": "stream",
     "text": [
      "data.shape= (3000, 1, 28, 28)\n",
      "label.shape= (3000, 15)\n"
     ]
    }
   ],
   "source": [
    "data = np.load(\"1_data/train_data.npy\") \n",
    "label = np.load(\"1_data/train_label.npy\")\n",
    "print(\"data.shape=\", data.shape)\n",
    "print(\"label.shape=\", label.shape)"
   ]
  },
  {
   "cell_type": "code",
   "execution_count": 3,
   "id": "9851a4d9-4434-4417-9053-1867206811e2",
   "metadata": {},
   "outputs": [
    {
     "name": "stderr",
     "output_type": "stream",
     "text": [
      "100%|██████████████████████████████████████████████████████| 1000/1000 [00:00<00:00, 5365.71it/s]\n"
     ]
    },
    {
     "name": "stdout",
     "output_type": "stream",
     "text": [
      "(1000, 28, 28, 1)\n"
     ]
    },
    {
     "name": "stderr",
     "output_type": "stream",
     "text": [
      "100%|██████████████████████████████████████████████████████| 1000/1000 [00:00<00:00, 4976.31it/s]\n"
     ]
    },
    {
     "name": "stdout",
     "output_type": "stream",
     "text": [
      "(1000, 28, 28, 1)\n"
     ]
    },
    {
     "name": "stderr",
     "output_type": "stream",
     "text": [
      "100%|██████████████████████████████████████████████████████| 1000/1000 [00:00<00:00, 4745.56it/s]\n"
     ]
    },
    {
     "name": "stdout",
     "output_type": "stream",
     "text": [
      "(1000, 28, 28, 1)\n"
     ]
    },
    {
     "name": "stderr",
     "output_type": "stream",
     "text": [
      "100%|██████████████████████████████████████████████████████| 1000/1000 [00:00<00:00, 5008.99it/s]\n"
     ]
    },
    {
     "name": "stdout",
     "output_type": "stream",
     "text": [
      "(1000, 28, 28, 1)\n"
     ]
    },
    {
     "name": "stderr",
     "output_type": "stream",
     "text": [
      "100%|██████████████████████████████████████████████████████| 1000/1000 [00:00<00:00, 5028.59it/s]\n"
     ]
    },
    {
     "name": "stdout",
     "output_type": "stream",
     "text": [
      "(1000, 28, 28, 1)\n"
     ]
    },
    {
     "name": "stderr",
     "output_type": "stream",
     "text": [
      "100%|██████████████████████████████████████████████████████| 1000/1000 [00:00<00:00, 5069.31it/s]\n"
     ]
    },
    {
     "name": "stdout",
     "output_type": "stream",
     "text": [
      "(1000, 28, 28, 1)\n"
     ]
    },
    {
     "name": "stderr",
     "output_type": "stream",
     "text": [
      "100%|██████████████████████████████████████████████████████| 1000/1000 [00:00<00:00, 5159.27it/s]\n"
     ]
    },
    {
     "name": "stdout",
     "output_type": "stream",
     "text": [
      "(1000, 28, 28, 1)\n"
     ]
    },
    {
     "name": "stderr",
     "output_type": "stream",
     "text": [
      "100%|██████████████████████████████████████████████████████| 1000/1000 [00:00<00:00, 5301.62it/s]\n"
     ]
    },
    {
     "name": "stdout",
     "output_type": "stream",
     "text": [
      "(1000, 28, 28, 1)\n"
     ]
    },
    {
     "name": "stderr",
     "output_type": "stream",
     "text": [
      "100%|██████████████████████████████████████████████████████| 1000/1000 [00:00<00:00, 5400.22it/s]\n"
     ]
    },
    {
     "name": "stdout",
     "output_type": "stream",
     "text": [
      "(1000, 28, 28, 1)\n"
     ]
    },
    {
     "name": "stderr",
     "output_type": "stream",
     "text": [
      "100%|██████████████████████████████████████████████████████| 1000/1000 [00:00<00:00, 4869.99it/s]\n"
     ]
    },
    {
     "name": "stdout",
     "output_type": "stream",
     "text": [
      "(1000, 28, 28, 1)\n"
     ]
    },
    {
     "name": "stderr",
     "output_type": "stream",
     "text": [
      "100%|██████████████████████████████████████████████████████| 1000/1000 [00:00<00:00, 4691.65it/s]\n"
     ]
    },
    {
     "name": "stdout",
     "output_type": "stream",
     "text": [
      "(1000, 28, 28, 1)\n"
     ]
    },
    {
     "name": "stderr",
     "output_type": "stream",
     "text": [
      "100%|██████████████████████████████████████████████████████| 1000/1000 [00:00<00:00, 4710.38it/s]\n"
     ]
    },
    {
     "name": "stdout",
     "output_type": "stream",
     "text": [
      "(1000, 28, 28, 1)\n"
     ]
    },
    {
     "name": "stderr",
     "output_type": "stream",
     "text": [
      "100%|██████████████████████████████████████████████████████| 1000/1000 [00:00<00:00, 5046.26it/s]\n"
     ]
    },
    {
     "name": "stdout",
     "output_type": "stream",
     "text": [
      "(1000, 28, 28, 1)\n"
     ]
    },
    {
     "name": "stderr",
     "output_type": "stream",
     "text": [
      "100%|██████████████████████████████████████████████████████| 1000/1000 [00:00<00:00, 5124.19it/s]\n"
     ]
    },
    {
     "name": "stdout",
     "output_type": "stream",
     "text": [
      "(1000, 28, 28, 1)\n"
     ]
    },
    {
     "name": "stderr",
     "output_type": "stream",
     "text": [
      "100%|██████████████████████████████████████████████████████| 1000/1000 [00:00<00:00, 5379.97it/s]\n"
     ]
    },
    {
     "name": "stdout",
     "output_type": "stream",
     "text": [
      "(1000, 28, 28, 1)\n",
      "(15000, 28, 28, 1)\n"
     ]
    }
   ],
   "source": [
    "# 文字種毎にデータ抽出、データ拡張\n",
    "for i in range(15):\n",
    "    index = np.where(label[:, i] == 1)\n",
    "\n",
    "    data_c = data[index[0]]\n",
    "    data_c = data_c.transpose(0, 2, 3, 1)\n",
    "\n",
    "    # ImageDataGeneratorのオブジェクト生成\n",
    "    datagen = keras.preprocessing.image.ImageDataGenerator(\n",
    "        rescale=1./255,\n",
    "        shear_range=0.9,\n",
    "#        zoom_range=0.1,\n",
    "        height_shift_range=0.15,\n",
    "        width_shift_range=0.15,\n",
    "        rotation_range=20\n",
    "    )\n",
    "    # 生成後枚数\n",
    "    num_image = 1000\n",
    "\n",
    "    # 保存先ディレクトリの作成    \n",
    "    save_dir = \"1_data/out_%s/\" % i\n",
    "    os.mkdir(save_dir)\n",
    "\n",
    "    # データ拡張\n",
    "    g = datagen.flow(data_c, batch_size=1, save_to_dir=save_dir, save_format='png', save_prefix='out_a_from_npy_')\n",
    "    for k in range(num_image):\n",
    "        batches = g.next()\n",
    "\n",
    "IMG_SIZE = 28\n",
    "# True=Grayscale, False=RGB\n",
    "COLOR = True\n",
    "# Name to save\n",
    "SAVE_FILE_NAME = 'SaveImages'\n",
    "# shape File Name\n",
    "if COLOR:\n",
    "    SAVE_FILE_NAME = SAVE_FILE_NAME + '_' + str(IMG_SIZE) + 'Gray'\n",
    "else:\n",
    "    SAVE_FILE_NAME = SAVE_FILE_NAME + '_' + str(IMG_SIZE) + 'RGB'\n",
    "\n",
    "merge_array = np.empty([0, 28, 28, 1])\n",
    "\n",
    "\n",
    "for l in range(15):\n",
    "    # Name to load images Folder\n",
    "    DIR_NAME = '1_data/out_%s' % l\n",
    "\n",
    "    # load images and reshape\n",
    "    img_list = glob.glob(DIR_NAME + '/*.png')\n",
    "    temp_img_array_list = []\n",
    "    for img in tqdm(img_list):\n",
    "        temp_img = keras.preprocessing.image.load_img(img, color_mode='grayscale' if COLOR else 'rgb',\n",
    "                                                      target_size=(IMG_SIZE, IMG_SIZE))\n",
    "        temp_img_array = keras.preprocessing.image.img_to_array(temp_img)\n",
    "        temp_img_array_list.append(temp_img_array)\n",
    "\n",
    "    temp_img_array_list = np.array(temp_img_array_list)\n",
    "\n",
    "    print(temp_img_array_list.shape)\n",
    "\n",
    "    merge_array = np.concatenate([merge_array, temp_img_array_list])\n",
    "\n",
    "print(merge_array.shape)\n",
    "merge_array = merge_array.transpose(0, 3, 1, 2)\n",
    "np.save(\"new_data.npy\", merge_array)\n",
    "\n",
    "label_count = []\n",
    "\n",
    "for i in range(15):\n",
    "    path = \"1_data/out_%s\" % i\n",
    "    files = os.listdir(path)\n",
    "    count = len(files)\n",
    "    label_count.append(count)\n",
    "\n",
    "\n",
    "# 各ラベル作成\n",
    "char_01 = np.array([1, 0, 0, 0, 0, 0, 0, 0, 0, 0, 0, 0, 0, 0, 0])\n",
    "char_02 = np.array([0, 1, 0, 0, 0, 0, 0, 0, 0, 0, 0, 0, 0, 0, 0])\n",
    "char_03 = np.array([0, 0, 1, 0, 0, 0, 0, 0, 0, 0, 0, 0, 0, 0, 0])\n",
    "char_04 = np.array([0, 0, 0, 1, 0, 0, 0, 0, 0, 0, 0, 0, 0, 0, 0])\n",
    "char_05 = np.array([0, 0, 0, 0, 1, 0, 0, 0, 0, 0, 0, 0, 0, 0, 0])\n",
    "char_06 = np.array([0, 0, 0, 0, 0, 1, 0, 0, 0, 0, 0, 0, 0, 0, 0])\n",
    "char_07 = np.array([0, 0, 0, 0, 0, 0, 1, 0, 0, 0, 0, 0, 0, 0, 0])\n",
    "char_08 = np.array([0, 0, 0, 0, 0, 0, 0, 1, 0, 0, 0, 0, 0, 0, 0])\n",
    "char_09 = np.array([0, 0, 0, 0, 0, 0, 0, 0, 1, 0, 0, 0, 0, 0, 0])\n",
    "char_10 = np.array([0, 0, 0, 0, 0, 0, 0, 0, 0, 1, 0, 0, 0, 0, 0])\n",
    "char_11 = np.array([0, 0, 0, 0, 0, 0, 0, 0, 0, 0, 1, 0, 0, 0, 0])\n",
    "char_12 = np.array([0, 0, 0, 0, 0, 0, 0, 0, 0, 0, 0, 1, 0, 0, 0])\n",
    "char_13 = np.array([0, 0, 0, 0, 0, 0, 0, 0, 0, 0, 0, 0, 1, 0, 0])\n",
    "char_14 = np.array([0, 0, 0, 0, 0, 0, 0, 0, 0, 0, 0, 0, 0, 1, 0])\n",
    "char_15 = np.array([0, 0, 0, 0, 0, 0, 0, 0, 0, 0, 0, 0, 0, 0, 1])\n",
    "\n",
    "for i in range(15):\n",
    "    if i == 0:\n",
    "        array_01 = np.tile(char_01, (label_count[i], 1))\n",
    "    if i == 1:\n",
    "        array_02 = np.tile(char_02, (label_count[i], 1))\n",
    "    if i == 2:\n",
    "        array_03 = np.tile(char_03, (label_count[i], 1))\n",
    "    if i == 3:\n",
    "        array_04 = np.tile(char_04, (label_count[i], 1))\n",
    "    if i == 4:\n",
    "        array_05 = np.tile(char_05, (label_count[i], 1))\n",
    "    if i == 5:\n",
    "        array_06 = np.tile(char_06, (label_count[i], 1))\n",
    "    if i == 6:\n",
    "        array_07 = np.tile(char_07, (label_count[i], 1))\n",
    "    if i == 7:\n",
    "        array_08 = np.tile(char_08, (label_count[i], 1))\n",
    "    if i == 8:\n",
    "        array_09 = np.tile(char_09, (label_count[i], 1))\n",
    "    if i == 9:\n",
    "        array_10 = np.tile(char_10, (label_count[i], 1))\n",
    "    if i == 10:\n",
    "        array_11 = np.tile(char_11, (label_count[i], 1))\n",
    "    if i == 11:\n",
    "        array_12 = np.tile(char_12, (label_count[i], 1))\n",
    "    if i == 12:\n",
    "        array_13 = np.tile(char_13, (label_count[i], 1))\n",
    "    if i == 13:\n",
    "        array_14 = np.tile(char_14, (label_count[i], 1))\n",
    "    if i == 14:\n",
    "        array_15 = np.tile(char_15, (label_count[i], 1))\n",
    "\n",
    "label_data_mr = np.concatenate([array_01, array_02, array_03, array_04, array_05, array_06, array_07, array_08, array_09, array_10, array_11, array_12, array_13, array_14, array_15])\n",
    "\n",
    "np.save(\"new_label.npy\", label_data_mr)"
   ]
  },
  {
   "cell_type": "code",
   "execution_count": 4,
   "id": "2fc72a28-5677-4c40-84c0-5e07e1571439",
   "metadata": {},
   "outputs": [
    {
     "name": "stdout",
     "output_type": "stream",
     "text": [
      "train_data.shape= (18000, 1, 28, 28)\n"
     ]
    }
   ],
   "source": [
    "train_data = np.concatenate((np.load(\"1_data/train_data.npy\"), np.load('new_data.npy')), axis=0)\n",
    "train_label = np.concatenate((np.load(\"1_data/train_label.npy\"), np.load('new_label.npy')), axis=0)\n",
    "\n",
    "# 正規化\n",
    "train_data = train_data / train_data.max()\n",
    "train_data = train_data.astype('float32')\n",
    "\n",
    "print(\"train_data.shape=\",train_data.shape)"
   ]
  },
  {
   "cell_type": "code",
   "execution_count": 5,
   "id": "9b947f29-a3b6-42a7-9b54-c16937737a8b",
   "metadata": {},
   "outputs": [
    {
     "name": "stdout",
     "output_type": "stream",
     "text": [
      "(12600, 1, 28, 28) (5400, 1, 28, 28) (12600, 15) (5400, 15)\n"
     ]
    }
   ],
   "source": [
    "X_train, X_test, y_train, y_test = train_test_split(train_data, train_label,\n",
    "                                                    test_size=0.3, random_state=1234,\n",
    "                                                    shuffle=True\n",
    "                                                    )\n",
    "print(X_train.shape, X_test.shape, y_train.shape, y_test.shape)"
   ]
  },
  {
   "cell_type": "code",
   "execution_count": 6,
   "id": "a04bcc3f-4d61-4efb-ba2d-84fee57fa850",
   "metadata": {},
   "outputs": [
    {
     "name": "stdout",
     "output_type": "stream",
     "text": [
      "(12600, 28, 28, 1) (5400, 28, 28, 1) (12600, 15) (5400, 15)\n"
     ]
    }
   ],
   "source": [
    "X_train = X_train.reshape(-1, 28, 28, 1)\n",
    "X_test = X_test.reshape(-1, 28, 28, 1)\n",
    "print(X_train.shape, X_test.shape, y_train.shape, y_test.shape)"
   ]
  },
  {
   "cell_type": "code",
   "execution_count": 7,
   "id": "be8027f3-7499-4872-9f59-9d4127b5f0f5",
   "metadata": {},
   "outputs": [
    {
     "name": "stdout",
     "output_type": "stream",
     "text": [
      "Model: \"sequential\"\n",
      "_________________________________________________________________\n",
      " Layer (type)                Output Shape              Param #   \n",
      "=================================================================\n",
      " conv2d (Conv2D)             (None, 28, 28, 32)        320       \n",
      "                                                                 \n",
      " max_pooling2d (MaxPooling2D  (None, 14, 14, 32)       0         \n",
      " )                                                               \n",
      "                                                                 \n",
      " batch_normalization (BatchN  (None, 14, 14, 32)       128       \n",
      " ormalization)                                                   \n",
      "                                                                 \n",
      " re_lu (ReLU)                (None, 14, 14, 32)        0         \n",
      "                                                                 \n",
      " conv2d_1 (Conv2D)           (None, 14, 14, 64)        18496     \n",
      "                                                                 \n",
      " max_pooling2d_1 (MaxPooling  (None, 7, 7, 64)         0         \n",
      " 2D)                                                             \n",
      "                                                                 \n",
      " batch_normalization_1 (Batc  (None, 7, 7, 64)         256       \n",
      " hNormalization)                                                 \n",
      "                                                                 \n",
      " re_lu_1 (ReLU)              (None, 7, 7, 64)          0         \n",
      "                                                                 \n",
      " flatten (Flatten)           (None, 3136)              0         \n",
      "                                                                 \n",
      " dense (Dense)               (None, 128)               401536    \n",
      "                                                                 \n",
      " batch_normalization_2 (Batc  (None, 128)              512       \n",
      " hNormalization)                                                 \n",
      "                                                                 \n",
      " re_lu_2 (ReLU)              (None, 128)               0         \n",
      "                                                                 \n",
      " dense_1 (Dense)             (None, 64)                8256      \n",
      "                                                                 \n",
      " batch_normalization_3 (Batc  (None, 64)               256       \n",
      " hNormalization)                                                 \n",
      "                                                                 \n",
      " re_lu_3 (ReLU)              (None, 64)                0         \n",
      "                                                                 \n",
      " dense_2 (Dense)             (None, 15)                975       \n",
      "                                                                 \n",
      "=================================================================\n",
      "Total params: 430,735\n",
      "Trainable params: 430,159\n",
      "Non-trainable params: 576\n",
      "_________________________________________________________________\n"
     ]
    },
    {
     "name": "stderr",
     "output_type": "stream",
     "text": [
      "2023-07-04 14:51:02.538399: W tensorflow/stream_executor/platform/default/dso_loader.cc:64] Could not load dynamic library 'libcuda.so.1'; dlerror: libcuda.so.1: cannot open shared object file: No such file or directory\n",
      "2023-07-04 14:51:02.538464: W tensorflow/stream_executor/cuda/cuda_driver.cc:269] failed call to cuInit: UNKNOWN ERROR (303)\n",
      "2023-07-04 14:51:02.538501: I tensorflow/stream_executor/cuda/cuda_diagnostics.cc:156] kernel driver does not appear to be running on this host (masaki-Precision-Tower-5810): /proc/driver/nvidia/version does not exist\n",
      "2023-07-04 14:51:02.563786: I tensorflow/core/platform/cpu_feature_guard.cc:151] This TensorFlow binary is optimized with oneAPI Deep Neural Network Library (oneDNN) to use the following CPU instructions in performance-critical operations:  AVX2 FMA\n",
      "To enable them in other operations, rebuild TensorFlow with the appropriate compiler flags.\n"
     ]
    }
   ],
   "source": [
    "tf.config.set_visible_devices([], 'GPU')\n",
    "\n",
    "model = tf.keras.Sequential([\n",
    "    tf.keras.layers.Conv2D(filters=32, kernel_size=(3, 3), activation='relu', padding='same', input_shape=(28, 28, 1)),\n",
    "    tf.keras.layers.MaxPooling2D(pool_size=(2, 2), strides=2),\n",
    "    tf.keras.layers.BatchNormalization(),\n",
    "    tf.keras.layers.ReLU(),\n",
    "    \n",
    "    tf.keras.layers.Conv2D(filters=64, kernel_size=(3, 3), activation='relu', padding='same'),\n",
    "    tf.keras.layers.MaxPooling2D(pool_size=(2, 2), strides=2),\n",
    "    tf.keras.layers.BatchNormalization(),\n",
    "    tf.keras.layers.ReLU(),\n",
    "    \n",
    "    tf.keras.layers.Flatten(),\n",
    "    \n",
    "    tf.keras.layers.Dense(units=128),\n",
    "    tf.keras.layers.BatchNormalization(),\n",
    "    tf.keras.layers.ReLU(),\n",
    "    \n",
    "    tf.keras.layers.Dense(units=64),\n",
    "    tf.keras.layers.BatchNormalization(),\n",
    "    tf.keras.layers.ReLU(),\n",
    "    \n",
    "    tf.keras.layers.Dense(units=15, activation='softmax')\n",
    "])\n",
    "\n",
    "\n",
    "# モデルのコンパイル\n",
    "model.compile(optimizer='adam',\n",
    "              loss=tf.keras.losses.CategoricalCrossentropy(),\n",
    "              metrics=['accuracy'])\n",
    "\n",
    "\n",
    "\n",
    "# モデルの概要の表示\n",
    "model.summary()"
   ]
  },
  {
   "cell_type": "code",
   "execution_count": 8,
   "id": "493aa295-05c0-467c-b73b-5a97e6d07b33",
   "metadata": {},
   "outputs": [
    {
     "name": "stdout",
     "output_type": "stream",
     "text": [
      "Epoch 1/50\n",
      "252/252 [==============================] - 4s 14ms/step - loss: 0.7918 - accuracy: 0.7933 - val_loss: 4.3901 - val_accuracy: 0.0670\n",
      "Epoch 2/50\n",
      "252/252 [==============================] - 3s 14ms/step - loss: 0.1989 - accuracy: 0.9492 - val_loss: 1.3419 - val_accuracy: 0.5796\n",
      "Epoch 3/50\n",
      "252/252 [==============================] - 4s 14ms/step - loss: 0.0798 - accuracy: 0.9825 - val_loss: 0.6458 - val_accuracy: 0.7946\n",
      "Epoch 4/50\n",
      "252/252 [==============================] - 3s 14ms/step - loss: 0.0427 - accuracy: 0.9914 - val_loss: 0.3822 - val_accuracy: 0.8743\n",
      "Epoch 5/50\n",
      "252/252 [==============================] - 3s 14ms/step - loss: 0.0264 - accuracy: 0.9952 - val_loss: 0.3414 - val_accuracy: 0.8970\n",
      "Epoch 6/50\n",
      "252/252 [==============================] - 4s 14ms/step - loss: 0.0146 - accuracy: 0.9979 - val_loss: 0.3366 - val_accuracy: 0.9020\n",
      "Epoch 7/50\n",
      "252/252 [==============================] - 3s 14ms/step - loss: 0.0103 - accuracy: 0.9989 - val_loss: 0.5062 - val_accuracy: 0.8498\n",
      "Epoch 8/50\n",
      "252/252 [==============================] - 3s 14ms/step - loss: 0.0356 - accuracy: 0.9904 - val_loss: 4.6635 - val_accuracy: 0.4183\n",
      "Epoch 9/50\n",
      "252/252 [==============================] - 3s 14ms/step - loss: 0.0369 - accuracy: 0.9894 - val_loss: 0.5506 - val_accuracy: 0.8543\n",
      "Epoch 10/50\n",
      "252/252 [==============================] - 3s 14ms/step - loss: 0.0204 - accuracy: 0.9949 - val_loss: 0.6694 - val_accuracy: 0.8170\n",
      "Epoch 11/50\n",
      "252/252 [==============================] - 3s 14ms/step - loss: 0.0154 - accuracy: 0.9960 - val_loss: 0.3569 - val_accuracy: 0.8998\n",
      "Epoch 12/50\n",
      "252/252 [==============================] - 3s 14ms/step - loss: 0.0066 - accuracy: 0.9988 - val_loss: 0.4295 - val_accuracy: 0.8924\n",
      "Epoch 13/50\n",
      "252/252 [==============================] - 4s 14ms/step - loss: 0.0050 - accuracy: 0.9990 - val_loss: 0.2520 - val_accuracy: 0.9287\n",
      "Epoch 14/50\n",
      "252/252 [==============================] - 3s 14ms/step - loss: 0.0135 - accuracy: 0.9957 - val_loss: 3.1823 - val_accuracy: 0.4939\n",
      "Epoch 15/50\n",
      "252/252 [==============================] - 3s 14ms/step - loss: 0.0203 - accuracy: 0.9937 - val_loss: 1.9051 - val_accuracy: 0.5967\n",
      "Epoch 16/50\n",
      "252/252 [==============================] - 3s 14ms/step - loss: 0.0198 - accuracy: 0.9936 - val_loss: 0.9570 - val_accuracy: 0.7817\n",
      "Epoch 17/50\n",
      "252/252 [==============================] - 4s 14ms/step - loss: 0.0152 - accuracy: 0.9952 - val_loss: 0.9777 - val_accuracy: 0.7809\n",
      "Epoch 18/50\n",
      "252/252 [==============================] - 4s 14ms/step - loss: 0.0105 - accuracy: 0.9967 - val_loss: 0.1791 - val_accuracy: 0.9524\n",
      "Epoch 19/50\n",
      "252/252 [==============================] - 3s 14ms/step - loss: 0.0061 - accuracy: 0.9987 - val_loss: 0.1805 - val_accuracy: 0.9496\n",
      "Epoch 20/50\n",
      "252/252 [==============================] - 3s 14ms/step - loss: 0.0073 - accuracy: 0.9975 - val_loss: 1.0580 - val_accuracy: 0.8037\n",
      "Epoch 21/50\n",
      "252/252 [==============================] - 4s 14ms/step - loss: 0.0077 - accuracy: 0.9980 - val_loss: 0.4926 - val_accuracy: 0.8802\n",
      "Epoch 22/50\n",
      "252/252 [==============================] - 3s 14ms/step - loss: 0.0086 - accuracy: 0.9976 - val_loss: 1.4251 - val_accuracy: 0.7074\n",
      "Epoch 23/50\n",
      "252/252 [==============================] - 3s 14ms/step - loss: 0.0071 - accuracy: 0.9979 - val_loss: 0.6655 - val_accuracy: 0.8559\n",
      "Epoch 24/50\n",
      "252/252 [==============================] - 3s 14ms/step - loss: 0.0069 - accuracy: 0.9982 - val_loss: 0.8636 - val_accuracy: 0.8200\n",
      "Epoch 25/50\n",
      "252/252 [==============================] - 3s 14ms/step - loss: 0.0176 - accuracy: 0.9947 - val_loss: 0.3550 - val_accuracy: 0.9113\n",
      "Epoch 26/50\n",
      "252/252 [==============================] - 3s 13ms/step - loss: 0.0146 - accuracy: 0.9956 - val_loss: 1.1086 - val_accuracy: 0.7674\n",
      "Epoch 27/50\n",
      "252/252 [==============================] - 3s 13ms/step - loss: 0.0127 - accuracy: 0.9959 - val_loss: 0.4461 - val_accuracy: 0.8970\n",
      "Epoch 28/50\n",
      "252/252 [==============================] - 3s 13ms/step - loss: 0.0080 - accuracy: 0.9982 - val_loss: 0.2142 - val_accuracy: 0.9441\n",
      "Epoch 29/50\n",
      "252/252 [==============================] - 3s 13ms/step - loss: 0.0043 - accuracy: 0.9989 - val_loss: 0.2715 - val_accuracy: 0.9278\n",
      "Epoch 30/50\n",
      "252/252 [==============================] - 3s 13ms/step - loss: 0.0015 - accuracy: 0.9998 - val_loss: 0.1322 - val_accuracy: 0.9670\n",
      "Epoch 31/50\n",
      "252/252 [==============================] - 3s 13ms/step - loss: 0.0028 - accuracy: 0.9991 - val_loss: 0.3664 - val_accuracy: 0.9187\n",
      "Epoch 32/50\n",
      "252/252 [==============================] - 3s 13ms/step - loss: 0.0019 - accuracy: 0.9997 - val_loss: 0.1781 - val_accuracy: 0.9607\n",
      "Epoch 33/50\n",
      "252/252 [==============================] - 3s 13ms/step - loss: 0.0023 - accuracy: 0.9996 - val_loss: 0.8676 - val_accuracy: 0.8228\n",
      "Epoch 34/50\n",
      "252/252 [==============================] - 3s 13ms/step - loss: 0.0126 - accuracy: 0.9958 - val_loss: 0.9298 - val_accuracy: 0.7961\n",
      "Epoch 35/50\n",
      "252/252 [==============================] - 3s 13ms/step - loss: 0.0132 - accuracy: 0.9955 - val_loss: 0.3085 - val_accuracy: 0.9241\n",
      "Epoch 36/50\n",
      "252/252 [==============================] - 3s 13ms/step - loss: 0.0120 - accuracy: 0.9967 - val_loss: 3.4230 - val_accuracy: 0.5604\n",
      "Epoch 37/50\n",
      "252/252 [==============================] - 3s 13ms/step - loss: 0.0077 - accuracy: 0.9979 - val_loss: 0.9250 - val_accuracy: 0.8159\n",
      "Epoch 38/50\n",
      "252/252 [==============================] - 3s 13ms/step - loss: 0.0071 - accuracy: 0.9974 - val_loss: 1.8195 - val_accuracy: 0.6783\n",
      "Epoch 39/50\n",
      "252/252 [==============================] - 3s 13ms/step - loss: 0.0073 - accuracy: 0.9979 - val_loss: 1.2641 - val_accuracy: 0.7454\n",
      "Epoch 40/50\n",
      "252/252 [==============================] - 3s 13ms/step - loss: 0.0033 - accuracy: 0.9992 - val_loss: 1.0289 - val_accuracy: 0.8015\n",
      "Epoch 41/50\n",
      "252/252 [==============================] - 3s 13ms/step - loss: 0.0022 - accuracy: 0.9995 - val_loss: 0.1893 - val_accuracy: 0.9544\n",
      "Epoch 42/50\n",
      "252/252 [==============================] - 3s 13ms/step - loss: 7.3542e-04 - accuracy: 1.0000 - val_loss: 0.1529 - val_accuracy: 0.9615\n",
      "Epoch 43/50\n",
      "252/252 [==============================] - 3s 13ms/step - loss: 5.6798e-04 - accuracy: 0.9999 - val_loss: 0.1355 - val_accuracy: 0.9661\n",
      "Epoch 44/50\n",
      "252/252 [==============================] - 3s 13ms/step - loss: 0.0021 - accuracy: 0.9994 - val_loss: 1.1009 - val_accuracy: 0.7859\n",
      "Epoch 45/50\n",
      "252/252 [==============================] - 3s 13ms/step - loss: 0.0100 - accuracy: 0.9971 - val_loss: 1.1285 - val_accuracy: 0.7993\n",
      "Epoch 46/50\n",
      "252/252 [==============================] - 3s 13ms/step - loss: 0.0094 - accuracy: 0.9968 - val_loss: 0.2335 - val_accuracy: 0.9463\n",
      "Epoch 47/50\n",
      "252/252 [==============================] - 3s 13ms/step - loss: 0.0069 - accuracy: 0.9975 - val_loss: 1.2143 - val_accuracy: 0.7713\n",
      "Epoch 48/50\n",
      "252/252 [==============================] - 3s 13ms/step - loss: 0.0060 - accuracy: 0.9983 - val_loss: 0.7943 - val_accuracy: 0.8339\n",
      "Epoch 49/50\n",
      "252/252 [==============================] - 3s 13ms/step - loss: 0.0021 - accuracy: 0.9994 - val_loss: 0.3300 - val_accuracy: 0.9263\n",
      "Epoch 50/50\n",
      "252/252 [==============================] - 3s 13ms/step - loss: 0.0012 - accuracy: 0.9998 - val_loss: 0.1453 - val_accuracy: 0.9630\n"
     ]
    }
   ],
   "source": [
    "history = model.fit(X_train, y_train, epochs=50, batch_size=50, validation_data=(X_test, y_test))"
   ]
  },
  {
   "cell_type": "code",
   "execution_count": 9,
   "id": "be847569-0fe2-46b9-aaf3-47538143caa9",
   "metadata": {},
   "outputs": [],
   "source": [
    "# モデルの保存\n",
    "model.save('trained_model.h5')"
   ]
  },
  {
   "cell_type": "code",
   "execution_count": null,
   "id": "2ac70df1-399e-47ca-841e-2df7ca33fe65",
   "metadata": {},
   "outputs": [],
   "source": []
  },
  {
   "cell_type": "code",
   "execution_count": null,
   "id": "9c5b96f1-e7d0-4ac6-b34d-c845bf019a53",
   "metadata": {},
   "outputs": [],
   "source": []
  }
 ],
 "metadata": {
  "kernelspec": {
   "display_name": "Python 3 (ipykernel)",
   "language": "python",
   "name": "python3"
  },
  "language_info": {
   "codemirror_mode": {
    "name": "ipython",
    "version": 3
   },
   "file_extension": ".py",
   "mimetype": "text/x-python",
   "name": "python",
   "nbconvert_exporter": "python",
   "pygments_lexer": "ipython3",
   "version": "3.10.2"
  }
 },
 "nbformat": 4,
 "nbformat_minor": 5
}
